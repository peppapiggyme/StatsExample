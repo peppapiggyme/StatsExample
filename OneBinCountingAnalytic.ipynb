{
 "cells": [
  {
   "cell_type": "code",
   "execution_count": 1,
   "metadata": {},
   "outputs": [],
   "source": [
    "from math import *\n",
    "\n",
    "\"\"\"\n",
    "Define the counting experiment here:\n",
    "\"\"\"\n",
    "# low statistic\n",
    "nSig = 1.0\n",
    "nBkg = 1.2\n",
    "mu = 9.0"
   ]
  },
  {
   "cell_type": "code",
   "execution_count": 2,
   "metadata": {},
   "outputs": [],
   "source": [
    "def expoDivideFrac(n, s, b, mu):\n",
    "    \"\"\"\n",
    "    calculate (mu * s + b) ^ n / n!\n",
    "    \"\"\"\n",
    "    val = 0\n",
    "    for i in range(n+1):\n",
    "        if i == 0:\n",
    "            val = 1\n",
    "        else:\n",
    "            val = (mu * s + b) * val / i\n",
    "\n",
    "    return val\n",
    "\n",
    "def Pois(n, s, b, mu):\n",
    "    \"\"\"\n",
    "    Poisson distribution\n",
    "    \"\"\"\n",
    "    return expoDivideFrac(n, s, b, mu) * exp(-1 * (mu * s + b))\n",
    "\n",
    "def qmu(n, s, b, mu):\n",
    "    \"\"\"\n",
    "    one side (P)LR test statistic\n",
    "    \"\"\"\n",
    "    muHat = (n - b) / s\n",
    "    if muHat <= mu:\n",
    "        if muHat < 0:\n",
    "            return -2 * log(Pois(n, s, b, mu) / Pois(n, s, b, 0))\n",
    "        else:\n",
    "            return -2 * log(Pois(n, s, b, mu) / Pois(n, s, b, muHat))\n",
    "    return 0\n",
    "\n",
    "def makeDist(dist, fqm):\n",
    "    \"\"\"\n",
    "    helper function to make the distribution according to $1\n",
    "    \"\"\"\n",
    "    myDist = []\n",
    "    first = True\n",
    "    for i in range(len(fqm)):\n",
    "        if fqm[i] > 0 or first:\n",
    "            myDist.append(dist[i])\n",
    "            if fqm[i] == 0:\n",
    "                first = False\n",
    "        else:\n",
    "            myDist[-1] += dist[i]\n",
    "    \n",
    "    return myDist\n"
   ]
  },
  {
   "cell_type": "code",
   "execution_count": 3,
   "metadata": {
    "scrolled": true
   },
   "outputs": [
    {
     "name": "stdout",
     "output_type": "stream",
     "text": [
      "B-only Poisson distribution:  ['0.301', '0.361', '0.217', '0.087', '0.026', '0.006', '0.001', '0.000', '0.000', '0.000']\n",
      "S+B    Poisson distribution:  ['0.000', '0.000', '0.002', '0.007', '0.017', '0.034', '0.058', '0.085', '0.108', '0.122']\n",
      "PLR at different N(obs).   :  ['18.000', '13.720', '9.883', '7.057', '4.911', '3.271', '2.032', '1.129', '0.513', '0.147']\n"
     ]
    }
   ],
   "source": [
    "# peek the values\n",
    "print(\"B-only Poisson distribution: \", [\"{:.3f}\".format(float(Pois(i, nSig, nBkg, 0))) for i in range(10)])\n",
    "print(\"S+B    Poisson distribution: \", [\"{:.3f}\".format(float(Pois(i, nSig, nBkg, mu))) for i in range(10)])\n",
    "print(\"PLR at different N(obs).   : \", [\"{:.3f}\".format(float(qmu(i, nSig, nBkg, mu))) for i in range(10)])\n",
    "\"\"\"\n",
    "get the distributions of B-Only and S+B test statistics\n",
    "NOTE: use large n (1000) to approximate sum to infinite\n",
    "\"\"\"\n",
    "fQmu = [qmu(i, nSig, nBkg, mu) for i in range(1000)]\n",
    "hypoBOnly = makeDist([Pois(i, nSig, nBkg, 0) for i in range(1000)], fQmu)\n",
    "hypoSPlusB = makeDist([Pois(i, nSig, nBkg, mu) for i in range(1000)], fQmu)"
   ]
  },
  {
   "cell_type": "code",
   "execution_count": 4,
   "metadata": {},
   "outputs": [],
   "source": [
    "from matplotlib import pyplot as plt \n",
    "import numpy as np  "
   ]
  },
  {
   "cell_type": "code",
   "execution_count": 5,
   "metadata": {},
   "outputs": [
    {
     "data": {
      "image/png": "[encoded data removed]",
      "text/plain": [
       "<Figure size 432x288 with 1 Axes>"
      ]
     },
     "metadata": {
      "needs_background": "light"
     },
     "output_type": "display_data"
    }
   ],
   "source": [
    "\"\"\"\n",
    "make a simple stem plot\n",
    "\"\"\"\n",
    "assert(len(hypoSPlusB) == len(hypoSPlusB))\n",
    "x = np.array(fQmu[:len(hypoSPlusB)])\n",
    "ySPlusB = np.array(hypoSPlusB)\n",
    "yBOnly = np.array(hypoBOnly)\n",
    "markerline, stemlines, baseline = plt.stem(x, ySPlusB, use_line_collection=True, linefmt='red', markerfmt='o')\n",
    "markerline.set_markerfacecolor('red')\n",
    "markerline.set_markeredgecolor('red')\n",
    "stemlines.set_linewidth(4)\n",
    "markerline, stemlines, baseline = plt.stem(x, yBOnly, use_line_collection=True, linefmt='blue', markerfmt='D')\n",
    "markerline.set_markerfacecolor('blue')\n",
    "markerline.set_markeredgecolor('blue')\n",
    "stemlines.set_linewidth(2)\n",
    "#plt.yscale('log')  # setLogy\n",
    "plt.show()"
   ]
  },
  {
   "cell_type": "code",
   "execution_count": null,
   "metadata": {},
   "outputs": [],
   "source": []
  }
 ],
 "metadata": {
  "kernelspec": {
   "display_name": "Python 3",
   "language": "python",
   "name": "python3"
  },
  "language_info": {
   "codemirror_mode": {
    "name": "ipython",
    "version": 3
   },
   "file_extension": ".py",
   "mimetype": "text/x-python",
   "name": "python",
   "nbconvert_exporter": "python",
   "pygments_lexer": "ipython3",
   "version": "3.7.3"
  }
 },
 "nbformat": 4,
 "nbformat_minor": 2
}
